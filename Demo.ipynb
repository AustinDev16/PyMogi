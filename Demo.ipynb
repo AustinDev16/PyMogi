{
 "cells": [
  {
   "cell_type": "markdown",
   "metadata": {},
   "source": [
    "# PyMogi\n",
    "This demonstrates the PyMogi set of classes.\n",
    "\n",
    "Point source deformation is given by [Mogi, 1958; Segall, 2010]:\n",
    "\\begin{eqnarray}\n",
    "U = \\frac{ (1 - \\nu)\\Delta P a_i^3}{\\mu} \\frac{d_i}{(k^2 + d_i^2)^{\\frac{3}{2}}}\n",
    "\\end{eqnarray}\n",
    "\n",
    "where $k$ is the radial distance from the center of the source, $\\nu$ is Poisson's ratio, $a$ is the chamber radius, and $d$ is the depth of the center of the chamber.\n",
    "\n",
    "Here we demonstrate how to use PyMogi to calculate and plot deformation profiles."
   ]
  },
  {
   "cell_type": "code",
   "execution_count": 1,
   "metadata": {},
   "outputs": [],
   "source": [
    "from Mogi import *"
   ]
  },
  {
   "cell_type": "code",
   "execution_count": null,
   "metadata": {},
   "outputs": [],
   "source": []
  }
 ],
 "metadata": {
  "kernelspec": {
   "display_name": "Python 3",
   "language": "python",
   "name": "python3"
  },
  "language_info": {
   "codemirror_mode": {
    "name": "ipython",
    "version": 3
   },
   "file_extension": ".py",
   "mimetype": "text/x-python",
   "name": "python",
   "nbconvert_exporter": "python",
   "pygments_lexer": "ipython3",
   "version": "3.6.0"
  }
 },
 "nbformat": 4,
 "nbformat_minor": 2
}
