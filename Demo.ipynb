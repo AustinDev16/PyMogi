{
 "cells": [
  {
   "cell_type": "markdown",
   "metadata": {},
   "source": [
    "# PyMogi\n",
    "This demonstrates the PyMogi set of classes.\n",
    "\n",
    "Point source deformation is given by [Mogi, 1958; Segall, 2010]:\n",
    "\\begin{eqnarray}\n",
    "U = \\frac{ (1 - \\nu)\\Delta P a_i^3}{\\mu} \\frac{d_i}{(k^2 + d_i^2)^{\\frac{3}{2}}}\n",
    "\\end{eqnarray}\n",
    "\n",
    "where $k$ is the radial distance from the center of the source, $\\nu$ is Poisson's ratio, $a$ is the chamber radius, and $d$ is the depth of the center of the chamber.\n",
    "\n",
    "Here we demonstrate how to use PyMogi to calculate and plot deformation profiles."
   ]
  },
  {
   "cell_type": "code",
   "execution_count": 1,
   "metadata": {},
   "outputs": [
    {
     "ename": "IndexError",
     "evalue": "too many indices for array",
     "output_type": "error",
     "traceback": [
      "\u001b[0;31m---------------------------------------------------------------------------\u001b[0m",
      "\u001b[0;31mIndexError\u001b[0m                                Traceback (most recent call last)",
      "\u001b[0;32m<ipython-input-1-acc5a0d32c64>\u001b[0m in \u001b[0;36m<module>\u001b[0;34m()\u001b[0m\n\u001b[1;32m     15\u001b[0m \u001b[0;31m#create a spatial array\u001b[0m\u001b[0;34m\u001b[0m\u001b[0;34m\u001b[0m\u001b[0m\n\u001b[1;32m     16\u001b[0m \u001b[0mxgrid\u001b[0m \u001b[0;34m=\u001b[0m \u001b[0mnp\u001b[0m\u001b[0;34m.\u001b[0m\u001b[0mlinspace\u001b[0m\u001b[0;34m(\u001b[0m\u001b[0;36m0\u001b[0m\u001b[0;34m,\u001b[0m\u001b[0;36m5e3\u001b[0m\u001b[0;34m,\u001b[0m\u001b[0;36m100\u001b[0m\u001b[0;34m)\u001b[0m\u001b[0;34m\u001b[0m\u001b[0m\n\u001b[0;32m---> 17\u001b[0;31m \u001b[0msolver\u001b[0m\u001b[0;34m.\u001b[0m\u001b[0mcalculate1D\u001b[0m\u001b[0;34m(\u001b[0m\u001b[0;36m5e6\u001b[0m\u001b[0;34m,\u001b[0m \u001b[0mxgrid\u001b[0m\u001b[0;34m)\u001b[0m\u001b[0;34m\u001b[0m\u001b[0m\n\u001b[0m",
      "\u001b[0;32m/Users/novarupta/Dropbox/Documents/Scientific Computing/Earth_Science/Mogi/PyMogi/Mogi.py\u001b[0m in \u001b[0;36mcalculate1D\u001b[0;34m(self, dP, array)\u001b[0m\n\u001b[1;32m     38\u001b[0m         \u001b[0msolution\u001b[0m \u001b[0;34m=\u001b[0m \u001b[0mnp\u001b[0m\u001b[0;34m.\u001b[0m\u001b[0mzeros\u001b[0m\u001b[0;34m(\u001b[0m\u001b[0mlen\u001b[0m\u001b[0;34m(\u001b[0m\u001b[0marray\u001b[0m\u001b[0;34m)\u001b[0m\u001b[0;34m)\u001b[0m\u001b[0;34m\u001b[0m\u001b[0m\n\u001b[1;32m     39\u001b[0m \u001b[0;34m\u001b[0m\u001b[0m\n\u001b[0;32m---> 40\u001b[0;31m         \u001b[0mmogi\u001b[0m \u001b[0;34m=\u001b[0m \u001b[0mself\u001b[0m\u001b[0;34m.\u001b[0m\u001b[0mmogiPointArray\u001b[0m\u001b[0;34m[\u001b[0m\u001b[0;36m0\u001b[0m\u001b[0;34m]\u001b[0m\u001b[0;34m\u001b[0m\u001b[0m\n\u001b[0m\u001b[1;32m     41\u001b[0m         \u001b[0msol\u001b[0m \u001b[0;34m=\u001b[0m \u001b[0mmogi\u001b[0m\u001b[0;34m.\u001b[0m\u001b[0m_mogi_point_engine\u001b[0m\u001b[0;34m(\u001b[0m\u001b[0mdP\u001b[0m\u001b[0;34m,\u001b[0m\u001b[0marray\u001b[0m\u001b[0;34m)\u001b[0m \u001b[0;34m+\u001b[0m \u001b[0;36m1\u001b[0m\u001b[0;34m\u001b[0m\u001b[0m\n\u001b[1;32m     42\u001b[0m         \u001b[0;32mreturn\u001b[0m \u001b[0msol\u001b[0m\u001b[0;34m\u001b[0m\u001b[0m\n",
      "\u001b[0;31mIndexError\u001b[0m: too many indices for array"
     ]
    }
   ],
   "source": [
    "from Mogi import *\n",
    "import numpy as np\n",
    "# Create Mogi Point Configuration\n",
    "sourceAConfig = MogiSourceConfig(0.25, 1e6, 500, 4e3, 0,0)\n",
    "#Create Point with that Configuration\n",
    "sourceA = MogiPoint(sourceAConfig)\n",
    "\n",
    "# Calculate a single point deformation\n",
    "sourceA._mogi_point_engine(5e6, 500)\n",
    "\n",
    "# Now we add this point source to the solver. It supports adding multiple sources, so you\n",
    "# pass in the sources as an array\n",
    "solver = CalculateDeformation(np.array(sourceA))\n",
    "\n",
    "#create a spatial array\n",
    "xgrid = np.linspace(0,5e3,100)\n",
    "solver.calculate1D(5e6, xgrid)"
   ]
  },
  {
   "cell_type": "code",
   "execution_count": null,
   "metadata": {},
   "outputs": [],
   "source": []
  },
  {
   "cell_type": "code",
   "execution_count": null,
   "metadata": {},
   "outputs": [],
   "source": []
  }
 ],
 "metadata": {
  "kernelspec": {
   "display_name": "Python 3",
   "language": "python",
   "name": "python3"
  },
  "language_info": {
   "codemirror_mode": {
    "name": "ipython",
    "version": 3
   },
   "file_extension": ".py",
   "mimetype": "text/x-python",
   "name": "python",
   "nbconvert_exporter": "python",
   "pygments_lexer": "ipython3",
   "version": "3.6.0"
  }
 },
 "nbformat": 4,
 "nbformat_minor": 2
}
